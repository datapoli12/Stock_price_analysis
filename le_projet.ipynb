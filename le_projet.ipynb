{
 "cells": [
  {
   "cell_type": "code",
   "execution_count": null,
   "metadata": {},
   "outputs": [],
   "source": [
    "import yfinance as yf\n",
    "\n",
    "# les entreprises d'étude\n",
    "entreprises = ['JPM', 'C', 'BAC', 'GS', 'WFC']\n",
    "\n",
    "# récupération des données \n",
    "df = yf.download(entreprises, start=\"2020-01-01\", end=\"2023-01-01\")\n",
    "\n",
    "# affichage des premières lignes des données\n",
    "print(df.head())"
   ]
  },
  {
   "cell_type": "code",
   "execution_count": null,
   "metadata": {},
   "outputs": [],
   "source": [
    "# Annonce économique : taux d'interet, inflation, PIB, taux de chômage\n",
    "from fredapi import Fred\n",
    "fred = Fred(api_key ='305f452f7903a51ce88233bd64c95661')\n",
    "\n",
    "taux_interet = fred.get_series('FEDFUNDS', start='2020-01-01', end='2023-01-01')\n",
    "inflation = fred.get_series('CPIAUCSL', start='2020-01-01', end='2023-01-01')\n",
    "pib = fred.get_series('GDP', start='2020-01-01', end='2023-01-01')\n",
    "taux_chomage = fred.get_series('UNRATE', start='2020-01-01', end='2023-01-01')\n",
    "\n",
    "# Un df pour combiner toutes les séries\n",
    "import pandas as pd\n",
    "data_eco = pd.DataFrame({\"Taux d'Interet\": taux_interet, 'Inflation': inflation, 'GDP': pib, 'Taux de Chomage': taux_chomage})\n",
    "\n",
    "# Affichage des premières lignes des données\n",
    "print(data_eco.tail())"
   ]
  },
  {
   "cell_type": "code",
   "execution_count": 10,
   "metadata": {},
   "outputs": [
    {
     "name": "stdout",
     "output_type": "stream",
     "text": [
      "Taux d'Interet      94\n",
      "Inflation            5\n",
      "GDP                626\n",
      "Taux de Chomage     17\n",
      "dtype: int64\n"
     ]
    }
   ],
   "source": [
    "# Préparation et nettoyage des données\n",
    "print(data_eco.isnull().sum())"
   ]
  },
  {
   "cell_type": "code",
   "execution_count": 11,
   "metadata": {},
   "outputs": [],
   "source": [
    "# Préparation et nettoyage des données\n",
    "if data_eco[\"Taux d'Interet\"].isnull().sum()> 0.3 * len(data_eco[\"Taux d'Interet\"]):\n",
    "    data_eco[\"Taux d'Interet\"] = data_eco[\"Taux d'Interet\"].dropna() \n",
    "\n",
    "\n",
    "data_eco[\"Inflation\"] = data_eco[\"Inflation\"].fillna(method='ffill')\n",
    "data_eco[\"GDP\"] = data_eco[\"GDP\"].dropna()\n",
    "data_eco[\"Taux de Chomage\"] = data_eco[\"Taux de Chomage\"].fillna(method='ffill')\n",
    "\n"
   ]
  }
 ],
 "metadata": {
  "kernelspec": {
   "display_name": "Python 3",
   "language": "python",
   "name": "python3"
  },
  "language_info": {
   "codemirror_mode": {
    "name": "ipython",
    "version": 3
   },
   "file_extension": ".py",
   "mimetype": "text/x-python",
   "name": "python",
   "nbconvert_exporter": "python",
   "pygments_lexer": "ipython3",
   "version": "3.12.4"
  }
 },
 "nbformat": 4,
 "nbformat_minor": 2
}
